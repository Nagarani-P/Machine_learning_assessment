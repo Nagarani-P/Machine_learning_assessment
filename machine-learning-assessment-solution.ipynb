{
 "cells": [
  {
   "cell_type": "markdown",
   "metadata": {
    "colab_type": "text",
    "id": "view-in-github"
   },
   "source": [
    "<a href=\"https://colab.research.google.com/github/samuelk-CS/Assessment/blob/main/ML_assessment.ipynb\" target=\"_parent\"><img src=\"https://colab.research.google.com/assets/colab-badge.svg\" alt=\"Open In Colab\"/></a>"
   ]
  },
  {
   "cell_type": "markdown",
   "metadata": {
    "button": false,
    "id": "o6RuJ4QKiv6I",
    "new_sheet": false,
    "run_control": {
     "read_only": false
    }
   },
   "source": [
    "\n",
    "<h1 align=\"center\"><font size=\"5\">Classification with Python</font></h1>\n"
   ]
  },
  {
   "cell_type": "markdown",
   "metadata": {
    "button": false,
    "id": "ncLsU_J2iv6w",
    "new_sheet": false,
    "run_control": {
     "read_only": false
    }
   },
   "source": [
    "In this notebook try to train and evaluate multiple classification algorithms.\n",
    "\n",
    "Load a dataset using Pandas library, and apply the following algorithms, and find the best one for this specific dataset by accuracy evaluation methods.\n",
    "\n",
    "First load required libraries:\n"
   ]
  },
  {
   "cell_type": "code",
   "execution_count": 1,
   "metadata": {
    "button": false,
    "id": "HPD3Pobjiv61",
    "new_sheet": false,
    "run_control": {
     "read_only": false
    }
   },
   "outputs": [],
   "source": [
    "import itertools\n",
    "import numpy as np\n",
    "import matplotlib.pyplot as plt\n",
    "from matplotlib.ticker import NullFormatter\n",
    "import pandas as pd\n",
    "import numpy as np\n",
    "import matplotlib.ticker as ticker\n",
    "from sklearn import preprocessing\n",
    "%matplotlib inline"
   ]
  },
  {
   "cell_type": "markdown",
   "metadata": {
    "button": false,
    "id": "4dWBl6kAiv6-",
    "new_sheet": false,
    "run_control": {
     "read_only": false
    }
   },
   "source": [
    "### About dataset\n"
   ]
  },
  {
   "cell_type": "markdown",
   "metadata": {
    "button": false,
    "id": "9ncdmGgYiv7A",
    "new_sheet": false,
    "run_control": {
     "read_only": false
    }
   },
   "source": [
    "This dataset is about past loans. The **Loan_train.csv** data set includes details of 346 customers whose loan are already paid off or defaulted. It includes following fields:\n",
    "\n",
    "| Field          | Description                                                                           |\n",
    "| -------------- | ------------------------------------------------------------------------------------- |\n",
    "| Loan_status    | Whether a loan is paid off on in collection                                           |\n",
    "| Principal      | Basic principal loan amount at the                                                    |\n",
    "| Terms          | Origination terms which can be weekly (7 days), biweekly, and monthly payoff schedule |\n",
    "| Effective_date | When the loan got originated and took effects                                         |\n",
    "| Due_date       | Since it’s one-time payoff schedule, each loan has one single due date                |\n",
    "| Age            | Age of applicant                                                                      |\n",
    "| Education      | Education of applicant                                                                |\n",
    "| Gender         | The gender of applicant                                                               |\n"
   ]
  },
  {
   "cell_type": "markdown",
   "metadata": {
    "button": false,
    "id": "G0zacrl_iv7G",
    "new_sheet": false,
    "run_control": {
     "read_only": false
    }
   },
   "source": [
    "Let's download the dataset\n"
   ]
  },
  {
   "cell_type": "code",
   "execution_count": 2,
   "metadata": {
    "button": false,
    "id": "X4-_4PCNiv7J",
    "new_sheet": false,
    "outputId": "b83131ac-b7fa-4af2-8355-fe4562ac3c67",
    "run_control": {
     "read_only": false
    }
   },
   "outputs": [
    {
     "name": "stderr",
     "output_type": "stream",
     "text": [
      "--2022-12-08 20:26:56--  https://cf-courses-data.s3.us.cloud-object-storage.appdomain.cloud/IBMDeveloperSkillsNetwork-ML0101EN-SkillsNetwork/labs/FinalModule_Coursera/data/loan_train.csv\n",
      "Resolving cf-courses-data.s3.us.cloud-object-storage.appdomain.cloud (cf-courses-data.s3.us.cloud-object-storage.appdomain.cloud)... 169.63.118.104\n",
      "Connecting to cf-courses-data.s3.us.cloud-object-storage.appdomain.cloud (cf-courses-data.s3.us.cloud-object-storage.appdomain.cloud)|169.63.118.104|:443... connected.\n",
      "HTTP request sent, awaiting response... 200 OK\n",
      "Length: 23101 (23K) [text/csv]\n",
      "Saving to: 'loan_train.csv'\n",
      "\n",
      "     0K .......... .......... ..                              100%  995K=0.02s\n",
      "\n",
      "2022-12-08 20:26:58 (995 KB/s) - 'loan_train.csv' saved [23101/23101]\n",
      "\n"
     ]
    }
   ],
   "source": [
    "\n",
    "!wget -O loan_train.csv https://cf-courses-data.s3.us.cloud-object-storage.appdomain.cloud/IBMDeveloperSkillsNetwork-ML0101EN-SkillsNetwork/labs/FinalModule_Coursera/data/loan_train.csv"
   ]
  },
  {
   "cell_type": "markdown",
   "metadata": {
    "button": false,
    "id": "LlXLjti-iv7R",
    "new_sheet": false,
    "run_control": {
     "read_only": false
    }
   },
   "source": [
    "### Load Data From CSV File\n",
    "load the data to the pandas dataframe 'df'"
   ]
  },
  {
   "cell_type": "code",
   "execution_count": 4,
   "metadata": {
    "button": false,
    "id": "xcgeoXGAiv7U",
    "new_sheet": false,
    "outputId": "8640aaef-4b1f-43c6-8044-aa3e0a03539a",
    "run_control": {
     "read_only": false
    }
   },
   "outputs": [
    {
     "data": {
      "text/html": [
       "<div>\n",
       "<style scoped>\n",
       "    .dataframe tbody tr th:only-of-type {\n",
       "        vertical-align: middle;\n",
       "    }\n",
       "\n",
       "    .dataframe tbody tr th {\n",
       "        vertical-align: top;\n",
       "    }\n",
       "\n",
       "    .dataframe thead th {\n",
       "        text-align: right;\n",
       "    }\n",
       "</style>\n",
       "<table border=\"1\" class=\"dataframe\">\n",
       "  <thead>\n",
       "    <tr style=\"text-align: right;\">\n",
       "      <th></th>\n",
       "      <th>Unnamed: 0.1</th>\n",
       "      <th>Unnamed: 0</th>\n",
       "      <th>loan_status</th>\n",
       "      <th>Principal</th>\n",
       "      <th>terms</th>\n",
       "      <th>effective_date</th>\n",
       "      <th>due_date</th>\n",
       "      <th>age</th>\n",
       "      <th>education</th>\n",
       "      <th>Gender</th>\n",
       "    </tr>\n",
       "  </thead>\n",
       "  <tbody>\n",
       "    <tr>\n",
       "      <th>0</th>\n",
       "      <td>0</td>\n",
       "      <td>0</td>\n",
       "      <td>PAIDOFF</td>\n",
       "      <td>1000</td>\n",
       "      <td>30</td>\n",
       "      <td>9/8/2016</td>\n",
       "      <td>10/7/2016</td>\n",
       "      <td>45</td>\n",
       "      <td>High School or Below</td>\n",
       "      <td>male</td>\n",
       "    </tr>\n",
       "    <tr>\n",
       "      <th>1</th>\n",
       "      <td>2</td>\n",
       "      <td>2</td>\n",
       "      <td>PAIDOFF</td>\n",
       "      <td>1000</td>\n",
       "      <td>30</td>\n",
       "      <td>9/8/2016</td>\n",
       "      <td>10/7/2016</td>\n",
       "      <td>33</td>\n",
       "      <td>Bechalor</td>\n",
       "      <td>female</td>\n",
       "    </tr>\n",
       "    <tr>\n",
       "      <th>2</th>\n",
       "      <td>3</td>\n",
       "      <td>3</td>\n",
       "      <td>PAIDOFF</td>\n",
       "      <td>1000</td>\n",
       "      <td>15</td>\n",
       "      <td>9/8/2016</td>\n",
       "      <td>9/22/2016</td>\n",
       "      <td>27</td>\n",
       "      <td>college</td>\n",
       "      <td>male</td>\n",
       "    </tr>\n",
       "    <tr>\n",
       "      <th>3</th>\n",
       "      <td>4</td>\n",
       "      <td>4</td>\n",
       "      <td>PAIDOFF</td>\n",
       "      <td>1000</td>\n",
       "      <td>30</td>\n",
       "      <td>9/9/2016</td>\n",
       "      <td>10/8/2016</td>\n",
       "      <td>28</td>\n",
       "      <td>college</td>\n",
       "      <td>female</td>\n",
       "    </tr>\n",
       "    <tr>\n",
       "      <th>4</th>\n",
       "      <td>6</td>\n",
       "      <td>6</td>\n",
       "      <td>PAIDOFF</td>\n",
       "      <td>1000</td>\n",
       "      <td>30</td>\n",
       "      <td>9/9/2016</td>\n",
       "      <td>10/8/2016</td>\n",
       "      <td>29</td>\n",
       "      <td>college</td>\n",
       "      <td>male</td>\n",
       "    </tr>\n",
       "  </tbody>\n",
       "</table>\n",
       "</div>"
      ],
      "text/plain": [
       "   Unnamed: 0.1  Unnamed: 0 loan_status  Principal  terms effective_date  \\\n",
       "0             0           0     PAIDOFF       1000     30       9/8/2016   \n",
       "1             2           2     PAIDOFF       1000     30       9/8/2016   \n",
       "2             3           3     PAIDOFF       1000     15       9/8/2016   \n",
       "3             4           4     PAIDOFF       1000     30       9/9/2016   \n",
       "4             6           6     PAIDOFF       1000     30       9/9/2016   \n",
       "\n",
       "    due_date  age             education  Gender  \n",
       "0  10/7/2016   45  High School or Below    male  \n",
       "1  10/7/2016   33              Bechalor  female  \n",
       "2  9/22/2016   27               college    male  \n",
       "3  10/8/2016   28               college  female  \n",
       "4  10/8/2016   29               college    male  "
      ]
     },
     "execution_count": 4,
     "metadata": {},
     "output_type": "execute_result"
    }
   ],
   "source": [
    "df = pd.read_csv('loan_train.csv') \n",
    "df.head()\n"
   ]
  },
  {
   "cell_type": "markdown",
   "metadata": {
    "id": "IbrpOrfWVN_h"
   },
   "source": [
    "display the shape of the dataframe 'df'"
   ]
  },
  {
   "cell_type": "code",
   "execution_count": 5,
   "metadata": {
    "id": "-yPNAYwIiv7c",
    "outputId": "0b4a33e8-d140-45ba-e672-6eec738d8763"
   },
   "outputs": [
    {
     "data": {
      "text/plain": [
       "(346, 10)"
      ]
     },
     "execution_count": 5,
     "metadata": {},
     "output_type": "execute_result"
    }
   ],
   "source": [
    " df.shape# replace the None\n",
    " "
   ]
  },
  {
   "cell_type": "markdown",
   "metadata": {
    "button": false,
    "id": "44AR175iiv7f",
    "new_sheet": false,
    "run_control": {
     "read_only": false
    }
   },
   "source": [
    "### Convert to date time object\n",
    "convert the 'due_date' and 'effective_date' columns to datetime object\n"
   ]
  },
  {
   "cell_type": "code",
   "execution_count": null,
   "metadata": {
    "button": false,
    "id": "v0u-CMNkiv7j",
    "new_sheet": false,
    "outputId": "58b4ef4c-750d-46d6-ef7b-31cf5c8778bd",
    "run_control": {
     "read_only": false
    }
   },
   "outputs": [],
   "source": [
    "df['due_date'] = pd.to_datetime (df['due_date']) # replace the None\n",
    "df['effective_date'] = pd.to_datetime (df['effective_date']) # replace the None\n",
    "df.head()\n"
   ]
  },
  {
   "cell_type": "markdown",
   "metadata": {
    "button": false,
    "id": "jPGXcEBziv7m",
    "new_sheet": false,
    "run_control": {
     "read_only": false
    }
   },
   "source": [
    "# Data visualization and pre-processing\n"
   ]
  },
  {
   "cell_type": "markdown",
   "metadata": {
    "button": false,
    "id": "w1gGBHZHiv7n",
    "new_sheet": false,
    "run_control": {
     "read_only": false
    }
   },
   "source": [
    "Show how many of each class is in 'loan_status' column\n"
   ]
  },
  {
   "cell_type": "code",
   "execution_count": 44,
   "metadata": {
    "button": false,
    "id": "-jF0-dVPiv7q",
    "new_sheet": false,
    "outputId": "91dc33b8-64fb-4342-979c-062b1d54d581",
    "run_control": {
     "read_only": false
    }
   },
   "outputs": [
    {
     "data": {
      "text/plain": [
       "PAIDOFF       260\n",
       "COLLECTION     86\n",
       "Name: loan_status, dtype: int64"
      ]
     },
     "execution_count": 44,
     "metadata": {},
     "output_type": "execute_result"
    }
   ],
   "source": [
    "df['loan_status'].value_counts() # replace the None"
   ]
  },
  {
   "cell_type": "markdown",
   "metadata": {
    "button": false,
    "id": "EtcKzaUciv7r",
    "new_sheet": false,
    "run_control": {
     "read_only": false
    }
   },
   "source": [
    "260 people have paid off the loan on time while 86 have gone into collection\n"
   ]
  },
  {
   "cell_type": "markdown",
   "metadata": {
    "id": "dkuiuuGhiv7t"
   },
   "source": [
    "Let's plot some columns to underestand data better:\n"
   ]
  },
  {
   "cell_type": "code",
   "execution_count": 45,
   "metadata": {
    "id": "d3Ujc0cViv7u",
    "outputId": "bcd84ca8-d363-4c3b-9c51-1e49bb4db2a0"
   },
   "outputs": [
    {
     "name": "stdout",
     "output_type": "stream",
     "text": [
      "Collecting package metadata (current_repodata.json): ...working... done\n",
      "Solving environment: ...working... done\n",
      "\n",
      "# All requested packages already installed.\n",
      "\n"
     ]
    }
   ],
   "source": [
    "# notice: installing seaborn might takes a few minutes\n",
    "!conda install -c anaconda seaborn -y"
   ]
  },
  {
   "cell_type": "markdown",
   "metadata": {
    "id": "5FsU5n8eZa91"
   },
   "source": [
    "Make a data visualization (histogram) out of the dataframe as shown in the reference visualization.Use the \"Gender\", \"loan_status\" and \"Principal\" columns for visualization. For visualization you can use seaborn, pyplot or any other library you are comfortable with.\n",
    "\n",
    "![image.png](data:image/png;base64,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)"
   ]
  },
  {
   "cell_type": "code",
   "execution_count": 48,
   "metadata": {
    "id": "yGvAJejHiv7w",
    "outputId": "021f5b07-a4a5-4222-bde2-b92b35df1264"
   },
   "outputs": [
    {
     "data": {
      "image/png": "[encoded data removed]",
      "text/plain": [
       "<Figure size 600x300 with 2 Axes>"
      ]
     },
     "metadata": {},
     "output_type": "display_data"
    }
   ],
   "source": [
    "# code for data visualization\n",
    "import seaborn as sns\n",
    "\n",
    "bins = np.linspace(df.Principal.min(), df.Principal.max(), 10)\n",
    "g = sns.FacetGrid(df, col=\"Gender\", hue=\"loan_status\", palette=\"Set1\", col_wrap=2)\n",
    "g.map(plt.hist, 'Principal', bins=bins, ec=\"k\")\n",
    "\n",
    "g.axes[-1].legend()\n",
    "plt.show()\n",
    "\n",
    "\n",
    "\n"
   ]
  },
  {
   "cell_type": "markdown",
   "metadata": {
    "id": "HkX6qZI0dNMK"
   },
   "source": [
    "Make a data visualization (histogram) out of the dataframe as shown in the reference visualization.Use the \"Gender\", \"loan_status\" and \"age\" columns for visualization.  For visualization you can use seaborn, pyplot or any other library you are comfortable with.\n",
    "\n",
    "![image.png](data:image/png;base64,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)"
   ]
  },
  {
   "cell_type": "code",
   "execution_count": 50,
   "metadata": {
    "button": false,
    "id": "pRu62L5Liv7y",
    "new_sheet": false,
    "outputId": "1c70764a-1878-40c4-f419-4840bda5fcfb",
    "run_control": {
     "read_only": false
    }
   },
   "outputs": [
    {
     "data": {
      "image/png": "[encoded data removed]",
      "text/plain": [
       "<Figure size 600x300 with 2 Axes>"
      ]
     },
     "metadata": {},
     "output_type": "display_data"
    }
   ],
   "source": [
    "# code for data visualization\n",
    "bins = np.linspace(df.age.min(), df.age.max(), 10)\n",
    "g = sns.FacetGrid(df, col=\"Gender\", hue=\"loan_status\", palette=\"Set1\", col_wrap=2)\n",
    "g.map(plt.hist, 'age', bins=bins, ec=\"k\")\n",
    "\n",
    "g.axes[-1].legend()\n",
    "plt.show()\n",
    "\n",
    "\n",
    "\n"
   ]
  },
  {
   "cell_type": "markdown",
   "metadata": {
    "button": false,
    "id": "PJ5Gm3MPiv73",
    "new_sheet": false,
    "run_control": {
     "read_only": false
    }
   },
   "source": [
    "# Pre-processing:  Feature selection/extraction\n"
   ]
  },
  {
   "cell_type": "markdown",
   "metadata": {
    "button": false,
    "id": "iLylMR1Uiv75",
    "new_sheet": false,
    "run_control": {
     "read_only": false
    }
   },
   "source": [
    "### Let's look at the day of the week people get the loan\n",
    "\n",
    "Make a data visualization (histogram) out of the dataframe as shown in the reference visualization.Use the \"Gender\", \"loan_status\" and \"dayofweek\" columns for visualization.  For visualization you can use seaborn, pyplot or any other library you are comfortable with.\n",
    "\n",
    "![image.png](data:image/png;base64,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)\n"
   ]
  },
  {
   "cell_type": "code",
   "execution_count": 56,
   "metadata": {
    "button": false,
    "id": "bNLC4ckHiv76",
    "new_sheet": false,
    "outputId": "d5fd3223-cdf9-40ef-a29e-cf8454df9847",
    "run_control": {
     "read_only": false
    }
   },
   "outputs": [
    {
     "data": {
      "image/png": "[encoded data removed]",
      "text/plain": [
       "<Figure size 600x300 with 2 Axes>"
      ]
     },
     "metadata": {},
     "output_type": "display_data"
    }
   ],
   "source": [
    "df['effective_date'] = pd.to_datetime (df['effective_date']) \n",
    "df['dayofweek'] = df['effective_date'].dt.dayofweek\n",
    "bins = np.linspace(df.dayofweek.min(), df.dayofweek.max(), 10)\n",
    "g = sns.FacetGrid(df, col=\"Gender\", hue=\"loan_status\", palette=\"Set1\", col_wrap=2)\n",
    "g.map(plt.hist, 'dayofweek', bins=bins, ec=\"k\")\n",
    "g.axes[-1].legend()\n",
    "plt.show()\n",
    "\n",
    "\n",
    "\n"
   ]
  },
  {
   "cell_type": "markdown",
   "metadata": {
    "button": false,
    "id": "xGDhMFFgiv79",
    "new_sheet": false,
    "run_control": {
     "read_only": false
    }
   },
   "source": [
    "We see that people who get the loan at the end of the week don't pay it off, so let's use Feature binarization to set a threshold value less than day 4\n"
   ]
  },
  {
   "cell_type": "code",
   "execution_count": 57,
   "metadata": {
    "button": false,
    "id": "KPonJBsciv7-",
    "new_sheet": false,
    "outputId": "5b3fd065-3cde-4360-b3db-d0741c471308",
    "run_control": {
     "read_only": false
    }
   },
   "outputs": [
    {
     "data": {
      "text/html": [
       "<div>\n",
       "<style scoped>\n",
       "    .dataframe tbody tr th:only-of-type {\n",
       "        vertical-align: middle;\n",
       "    }\n",
       "\n",
       "    .dataframe tbody tr th {\n",
       "        vertical-align: top;\n",
       "    }\n",
       "\n",
       "    .dataframe thead th {\n",
       "        text-align: right;\n",
       "    }\n",
       "</style>\n",
       "<table border=\"1\" class=\"dataframe\">\n",
       "  <thead>\n",
       "    <tr style=\"text-align: right;\">\n",
       "      <th></th>\n",
       "      <th>Unnamed: 0.1</th>\n",
       "      <th>Unnamed: 0</th>\n",
       "      <th>loan_status</th>\n",
       "      <th>Principal</th>\n",
       "      <th>terms</th>\n",
       "      <th>effective_date</th>\n",
       "      <th>due_date</th>\n",
       "      <th>age</th>\n",
       "      <th>education</th>\n",
       "      <th>Gender</th>\n",
       "      <th>dayofweek</th>\n",
       "      <th>weekend</th>\n",
       "    </tr>\n",
       "  </thead>\n",
       "  <tbody>\n",
       "    <tr>\n",
       "      <th>0</th>\n",
       "      <td>0</td>\n",
       "      <td>0</td>\n",
       "      <td>PAIDOFF</td>\n",
       "      <td>1000</td>\n",
       "      <td>30</td>\n",
       "      <td>2016-09-08</td>\n",
       "      <td>10/7/2016</td>\n",
       "      <td>45</td>\n",
       "      <td>High School or Below</td>\n",
       "      <td>male</td>\n",
       "      <td>3</td>\n",
       "      <td>0</td>\n",
       "    </tr>\n",
       "    <tr>\n",
       "      <th>1</th>\n",
       "      <td>2</td>\n",
       "      <td>2</td>\n",
       "      <td>PAIDOFF</td>\n",
       "      <td>1000</td>\n",
       "      <td>30</td>\n",
       "      <td>2016-09-08</td>\n",
       "      <td>10/7/2016</td>\n",
       "      <td>33</td>\n",
       "      <td>Bechalor</td>\n",
       "      <td>female</td>\n",
       "      <td>3</td>\n",
       "      <td>0</td>\n",
       "    </tr>\n",
       "    <tr>\n",
       "      <th>2</th>\n",
       "      <td>3</td>\n",
       "      <td>3</td>\n",
       "      <td>PAIDOFF</td>\n",
       "      <td>1000</td>\n",
       "      <td>15</td>\n",
       "      <td>2016-09-08</td>\n",
       "      <td>9/22/2016</td>\n",
       "      <td>27</td>\n",
       "      <td>college</td>\n",
       "      <td>male</td>\n",
       "      <td>3</td>\n",
       "      <td>0</td>\n",
       "    </tr>\n",
       "    <tr>\n",
       "      <th>3</th>\n",
       "      <td>4</td>\n",
       "      <td>4</td>\n",
       "      <td>PAIDOFF</td>\n",
       "      <td>1000</td>\n",
       "      <td>30</td>\n",
       "      <td>2016-09-09</td>\n",
       "      <td>10/8/2016</td>\n",
       "      <td>28</td>\n",
       "      <td>college</td>\n",
       "      <td>female</td>\n",
       "      <td>4</td>\n",
       "      <td>1</td>\n",
       "    </tr>\n",
       "    <tr>\n",
       "      <th>4</th>\n",
       "      <td>6</td>\n",
       "      <td>6</td>\n",
       "      <td>PAIDOFF</td>\n",
       "      <td>1000</td>\n",
       "      <td>30</td>\n",
       "      <td>2016-09-09</td>\n",
       "      <td>10/8/2016</td>\n",
       "      <td>29</td>\n",
       "      <td>college</td>\n",
       "      <td>male</td>\n",
       "      <td>4</td>\n",
       "      <td>1</td>\n",
       "    </tr>\n",
       "  </tbody>\n",
       "</table>\n",
       "</div>"
      ],
      "text/plain": [
       "   Unnamed: 0.1  Unnamed: 0 loan_status  Principal  terms effective_date  \\\n",
       "0             0           0     PAIDOFF       1000     30     2016-09-08   \n",
       "1             2           2     PAIDOFF       1000     30     2016-09-08   \n",
       "2             3           3     PAIDOFF       1000     15     2016-09-08   \n",
       "3             4           4     PAIDOFF       1000     30     2016-09-09   \n",
       "4             6           6     PAIDOFF       1000     30     2016-09-09   \n",
       "\n",
       "    due_date  age             education  Gender  dayofweek  weekend  \n",
       "0  10/7/2016   45  High School or Below    male          3        0  \n",
       "1  10/7/2016   33              Bechalor  female          3        0  \n",
       "2  9/22/2016   27               college    male          3        0  \n",
       "3  10/8/2016   28               college  female          4        1  \n",
       "4  10/8/2016   29               college    male          4        1  "
      ]
     },
     "execution_count": 57,
     "metadata": {},
     "output_type": "execute_result"
    }
   ],
   "source": [
    "df['weekend'] = df['dayofweek'].apply(lambda x: 1 if (x>3)  else 0)\n",
    "df.head()"
   ]
  },
  {
   "cell_type": "markdown",
   "metadata": {
    "button": false,
    "id": "ZjJNqoKtiv8A",
    "new_sheet": false,
    "run_control": {
     "read_only": false
    }
   },
   "source": [
    "## Convert Categorical features to numerical values\n"
   ]
  },
  {
   "cell_type": "markdown",
   "metadata": {
    "button": false,
    "id": "l0nercqliv8A",
    "new_sheet": false,
    "run_control": {
     "read_only": false
    }
   },
   "source": [
    "Let's look at gender:\n"
   ]
  },
  {
   "cell_type": "code",
   "execution_count": null,
   "metadata": {
    "button": false,
    "id": "tIoWxEawiv8B",
    "new_sheet": false,
    "outputId": "3b5a723f-05be-47a5-96aa-298dbbe8831e",
    "run_control": {
     "read_only": false
    }
   },
   "outputs": [
    {
     "data": {
      "text/plain": [
       "Gender  loan_status\n",
       "female  PAIDOFF        0.865385\n",
       "        COLLECTION     0.134615\n",
       "male    PAIDOFF        0.731293\n",
       "        COLLECTION     0.268707\n",
       "Name: loan_status, dtype: float64"
      ]
     },
     "execution_count": 12,
     "metadata": {},
     "output_type": "execute_result"
    }
   ],
   "source": [
    "df.groupby(['Gender'])['loan_status'].value_counts(normalize=True)"
   ]
  },
  {
   "cell_type": "markdown",
   "metadata": {
    "button": false,
    "id": "BBypnM2Biv8D",
    "new_sheet": false,
    "run_control": {
     "read_only": false
    }
   },
   "source": [
    "86 % of female pay there loans while only 73 % of males pay there loan\n"
   ]
  },
  {
   "cell_type": "markdown",
   "metadata": {
    "button": false,
    "id": "NIEc1fv9iv8E",
    "new_sheet": false,
    "run_control": {
     "read_only": false
    }
   },
   "source": [
    "Let's convert male and female labels in Gender column into numerical features through encoding:\n"
   ]
  },
  {
   "cell_type": "code",
   "execution_count": 61,
   "metadata": {
    "button": false,
    "id": "aVPS-mG6iv8G",
    "new_sheet": false,
    "outputId": "2686e90d-9bee-4916-fb86-9b3bc1ebc53e",
    "run_control": {
     "read_only": false
    }
   },
   "outputs": [
    {
     "data": {
      "text/html": [
       "<div>\n",
       "<style scoped>\n",
       "    .dataframe tbody tr th:only-of-type {\n",
       "        vertical-align: middle;\n",
       "    }\n",
       "\n",
       "    .dataframe tbody tr th {\n",
       "        vertical-align: top;\n",
       "    }\n",
       "\n",
       "    .dataframe thead th {\n",
       "        text-align: right;\n",
       "    }\n",
       "</style>\n",
       "<table border=\"1\" class=\"dataframe\">\n",
       "  <thead>\n",
       "    <tr style=\"text-align: right;\">\n",
       "      <th></th>\n",
       "      <th>Unnamed: 0.1</th>\n",
       "      <th>Unnamed: 0</th>\n",
       "      <th>loan_status</th>\n",
       "      <th>Principal</th>\n",
       "      <th>terms</th>\n",
       "      <th>effective_date</th>\n",
       "      <th>due_date</th>\n",
       "      <th>age</th>\n",
       "      <th>education</th>\n",
       "      <th>Gender</th>\n",
       "      <th>dayofweek</th>\n",
       "      <th>weekend</th>\n",
       "    </tr>\n",
       "  </thead>\n",
       "  <tbody>\n",
       "    <tr>\n",
       "      <th>0</th>\n",
       "      <td>0</td>\n",
       "      <td>0</td>\n",
       "      <td>PAIDOFF</td>\n",
       "      <td>1000</td>\n",
       "      <td>30</td>\n",
       "      <td>2016-09-08</td>\n",
       "      <td>10/7/2016</td>\n",
       "      <td>45</td>\n",
       "      <td>High School or Below</td>\n",
       "      <td>0</td>\n",
       "      <td>3</td>\n",
       "      <td>0</td>\n",
       "    </tr>\n",
       "    <tr>\n",
       "      <th>1</th>\n",
       "      <td>2</td>\n",
       "      <td>2</td>\n",
       "      <td>PAIDOFF</td>\n",
       "      <td>1000</td>\n",
       "      <td>30</td>\n",
       "      <td>2016-09-08</td>\n",
       "      <td>10/7/2016</td>\n",
       "      <td>33</td>\n",
       "      <td>Bechalor</td>\n",
       "      <td>1</td>\n",
       "      <td>3</td>\n",
       "      <td>0</td>\n",
       "    </tr>\n",
       "    <tr>\n",
       "      <th>2</th>\n",
       "      <td>3</td>\n",
       "      <td>3</td>\n",
       "      <td>PAIDOFF</td>\n",
       "      <td>1000</td>\n",
       "      <td>15</td>\n",
       "      <td>2016-09-08</td>\n",
       "      <td>9/22/2016</td>\n",
       "      <td>27</td>\n",
       "      <td>college</td>\n",
       "      <td>0</td>\n",
       "      <td>3</td>\n",
       "      <td>0</td>\n",
       "    </tr>\n",
       "    <tr>\n",
       "      <th>3</th>\n",
       "      <td>4</td>\n",
       "      <td>4</td>\n",
       "      <td>PAIDOFF</td>\n",
       "      <td>1000</td>\n",
       "      <td>30</td>\n",
       "      <td>2016-09-09</td>\n",
       "      <td>10/8/2016</td>\n",
       "      <td>28</td>\n",
       "      <td>college</td>\n",
       "      <td>1</td>\n",
       "      <td>4</td>\n",
       "      <td>1</td>\n",
       "    </tr>\n",
       "    <tr>\n",
       "      <th>4</th>\n",
       "      <td>6</td>\n",
       "      <td>6</td>\n",
       "      <td>PAIDOFF</td>\n",
       "      <td>1000</td>\n",
       "      <td>30</td>\n",
       "      <td>2016-09-09</td>\n",
       "      <td>10/8/2016</td>\n",
       "      <td>29</td>\n",
       "      <td>college</td>\n",
       "      <td>0</td>\n",
       "      <td>4</td>\n",
       "      <td>1</td>\n",
       "    </tr>\n",
       "  </tbody>\n",
       "</table>\n",
       "</div>"
      ],
      "text/plain": [
       "   Unnamed: 0.1  Unnamed: 0 loan_status  Principal  terms effective_date  \\\n",
       "0             0           0     PAIDOFF       1000     30     2016-09-08   \n",
       "1             2           2     PAIDOFF       1000     30     2016-09-08   \n",
       "2             3           3     PAIDOFF       1000     15     2016-09-08   \n",
       "3             4           4     PAIDOFF       1000     30     2016-09-09   \n",
       "4             6           6     PAIDOFF       1000     30     2016-09-09   \n",
       "\n",
       "    due_date  age             education  Gender  dayofweek  weekend  \n",
       "0  10/7/2016   45  High School or Below       0          3        0  \n",
       "1  10/7/2016   33              Bechalor       1          3        0  \n",
       "2  9/22/2016   27               college       0          3        0  \n",
       "3  10/8/2016   28               college       1          4        1  \n",
       "4  10/8/2016   29               college       0          4        1  "
      ]
     },
     "execution_count": 61,
     "metadata": {},
     "output_type": "execute_result"
    }
   ],
   "source": [
    "# Code to encode the 'Gender' column\n",
    "df['Gender'].replace(to_replace=['male','female'], value=[0,1],inplace=True)\n",
    "df.head()\n",
    "\n",
    "\n",
    "\n",
    "\n",
    "\n"
   ]
  },
  {
   "cell_type": "markdown",
   "metadata": {
    "button": false,
    "id": "eVDeAXy6iv8I",
    "new_sheet": false,
    "run_control": {
     "read_only": false
    }
   },
   "source": [
    "## One Hot Encoding\n",
    "\n",
    "#### How about education?\n"
   ]
  },
  {
   "cell_type": "code",
   "execution_count": null,
   "metadata": {
    "button": false,
    "id": "LdJFfaIYiv8J",
    "new_sheet": false,
    "outputId": "30cbded9-8c11-4fe5-eed2-f428ffd1c1d6",
    "run_control": {
     "read_only": false
    }
   },
   "outputs": [
    {
     "data": {
      "text/plain": [
       "education             loan_status\n",
       "Bechalor              PAIDOFF        0.750000\n",
       "                      COLLECTION     0.250000\n",
       "High School or Below  PAIDOFF        0.741722\n",
       "                      COLLECTION     0.258278\n",
       "Master or Above       COLLECTION     0.500000\n",
       "                      PAIDOFF        0.500000\n",
       "college               PAIDOFF        0.765101\n",
       "                      COLLECTION     0.234899\n",
       "Name: loan_status, dtype: float64"
      ]
     },
     "execution_count": 14,
     "metadata": {},
     "output_type": "execute_result"
    }
   ],
   "source": [
    "df.groupby(['education'])['loan_status'].value_counts(normalize=True)"
   ]
  },
  {
   "cell_type": "markdown",
   "metadata": {
    "button": false,
    "id": "MTkrfQUJiv8K",
    "new_sheet": false,
    "run_control": {
     "read_only": false
    }
   },
   "source": [
    "#### Features before One Hot Encoding\n"
   ]
  },
  {
   "cell_type": "code",
   "execution_count": null,
   "metadata": {
    "button": false,
    "id": "4m28WVQciv8L",
    "new_sheet": false,
    "outputId": "5f906f69-b3c5-4cbc-8b96-f6a0914561d0",
    "run_control": {
     "read_only": false
    }
   },
   "outputs": [
    {
     "data": {
      "text/html": [
       "<div>\n",
       "<style scoped>\n",
       "    .dataframe tbody tr th:only-of-type {\n",
       "        vertical-align: middle;\n",
       "    }\n",
       "\n",
       "    .dataframe tbody tr th {\n",
       "        vertical-align: top;\n",
       "    }\n",
       "\n",
       "    .dataframe thead th {\n",
       "        text-align: right;\n",
       "    }\n",
       "</style>\n",
       "<table border=\"1\" class=\"dataframe\">\n",
       "  <thead>\n",
       "    <tr style=\"text-align: right;\">\n",
       "      <th></th>\n",
       "      <th>Principal</th>\n",
       "      <th>terms</th>\n",
       "      <th>age</th>\n",
       "      <th>Gender</th>\n",
       "      <th>education</th>\n",
       "    </tr>\n",
       "  </thead>\n",
       "  <tbody>\n",
       "    <tr>\n",
       "      <th>0</th>\n",
       "      <td>1000</td>\n",
       "      <td>30</td>\n",
       "      <td>45</td>\n",
       "      <td>0</td>\n",
       "      <td>High School or Below</td>\n",
       "    </tr>\n",
       "    <tr>\n",
       "      <th>1</th>\n",
       "      <td>1000</td>\n",
       "      <td>30</td>\n",
       "      <td>33</td>\n",
       "      <td>1</td>\n",
       "      <td>Bechalor</td>\n",
       "    </tr>\n",
       "    <tr>\n",
       "      <th>2</th>\n",
       "      <td>1000</td>\n",
       "      <td>15</td>\n",
       "      <td>27</td>\n",
       "      <td>0</td>\n",
       "      <td>college</td>\n",
       "    </tr>\n",
       "    <tr>\n",
       "      <th>3</th>\n",
       "      <td>1000</td>\n",
       "      <td>30</td>\n",
       "      <td>28</td>\n",
       "      <td>1</td>\n",
       "      <td>college</td>\n",
       "    </tr>\n",
       "    <tr>\n",
       "      <th>4</th>\n",
       "      <td>1000</td>\n",
       "      <td>30</td>\n",
       "      <td>29</td>\n",
       "      <td>0</td>\n",
       "      <td>college</td>\n",
       "    </tr>\n",
       "  </tbody>\n",
       "</table>\n",
       "</div>"
      ],
      "text/plain": [
       "   Principal  terms  age  Gender             education\n",
       "0       1000     30   45       0  High School or Below\n",
       "1       1000     30   33       1              Bechalor\n",
       "2       1000     15   27       0               college\n",
       "3       1000     30   28       1               college\n",
       "4       1000     30   29       0               college"
      ]
     },
     "execution_count": 15,
     "metadata": {},
     "output_type": "execute_result"
    }
   ],
   "source": [
    "df[['Principal','terms','age','Gender','education']].head()"
   ]
  },
  {
   "cell_type": "markdown",
   "metadata": {
    "button": false,
    "id": "bgY2BKQJiv8M",
    "new_sheet": false,
    "run_control": {
     "read_only": false
    }
   },
   "source": [
    "#### Use one hot encoding technique to conver categorical variables 'education - column' to binary variables and append them to the feature Data Frame\n"
   ]
  },
  {
   "cell_type": "code",
   "execution_count": 62,
   "metadata": {
    "button": false,
    "id": "xlZcY5l3iv8O",
    "new_sheet": false,
    "outputId": "d5101878-0d21-40fe-99f0-252439d27832",
    "run_control": {
     "read_only": false
    }
   },
   "outputs": [
    {
     "data": {
      "text/html": [
       "<div>\n",
       "<style scoped>\n",
       "    .dataframe tbody tr th:only-of-type {\n",
       "        vertical-align: middle;\n",
       "    }\n",
       "\n",
       "    .dataframe tbody tr th {\n",
       "        vertical-align: top;\n",
       "    }\n",
       "\n",
       "    .dataframe thead th {\n",
       "        text-align: right;\n",
       "    }\n",
       "</style>\n",
       "<table border=\"1\" class=\"dataframe\">\n",
       "  <thead>\n",
       "    <tr style=\"text-align: right;\">\n",
       "      <th></th>\n",
       "      <th>Principal</th>\n",
       "      <th>terms</th>\n",
       "      <th>age</th>\n",
       "      <th>Gender</th>\n",
       "      <th>weekend</th>\n",
       "      <th>Bechalor</th>\n",
       "      <th>High School or Below</th>\n",
       "      <th>college</th>\n",
       "    </tr>\n",
       "  </thead>\n",
       "  <tbody>\n",
       "    <tr>\n",
       "      <th>0</th>\n",
       "      <td>1000</td>\n",
       "      <td>30</td>\n",
       "      <td>45</td>\n",
       "      <td>0</td>\n",
       "      <td>0</td>\n",
       "      <td>0</td>\n",
       "      <td>1</td>\n",
       "      <td>0</td>\n",
       "    </tr>\n",
       "    <tr>\n",
       "      <th>1</th>\n",
       "      <td>1000</td>\n",
       "      <td>30</td>\n",
       "      <td>33</td>\n",
       "      <td>1</td>\n",
       "      <td>0</td>\n",
       "      <td>1</td>\n",
       "      <td>0</td>\n",
       "      <td>0</td>\n",
       "    </tr>\n",
       "    <tr>\n",
       "      <th>2</th>\n",
       "      <td>1000</td>\n",
       "      <td>15</td>\n",
       "      <td>27</td>\n",
       "      <td>0</td>\n",
       "      <td>0</td>\n",
       "      <td>0</td>\n",
       "      <td>0</td>\n",
       "      <td>1</td>\n",
       "    </tr>\n",
       "    <tr>\n",
       "      <th>3</th>\n",
       "      <td>1000</td>\n",
       "      <td>30</td>\n",
       "      <td>28</td>\n",
       "      <td>1</td>\n",
       "      <td>1</td>\n",
       "      <td>0</td>\n",
       "      <td>0</td>\n",
       "      <td>1</td>\n",
       "    </tr>\n",
       "    <tr>\n",
       "      <th>4</th>\n",
       "      <td>1000</td>\n",
       "      <td>30</td>\n",
       "      <td>29</td>\n",
       "      <td>0</td>\n",
       "      <td>1</td>\n",
       "      <td>0</td>\n",
       "      <td>0</td>\n",
       "      <td>1</td>\n",
       "    </tr>\n",
       "  </tbody>\n",
       "</table>\n",
       "</div>"
      ],
      "text/plain": [
       "   Principal  terms  age  Gender  weekend  Bechalor  High School or Below  \\\n",
       "0       1000     30   45       0        0         0                     1   \n",
       "1       1000     30   33       1        0         1                     0   \n",
       "2       1000     15   27       0        0         0                     0   \n",
       "3       1000     30   28       1        1         0                     0   \n",
       "4       1000     30   29       0        1         0                     0   \n",
       "\n",
       "   college  \n",
       "0        0  \n",
       "1        0  \n",
       "2        1  \n",
       "3        1  \n",
       "4        1  "
      ]
     },
     "execution_count": 62,
     "metadata": {},
     "output_type": "execute_result"
    }
   ],
   "source": [
    "# Code to encode 'education' column to binary values \n",
    "\n",
    "Feature = df[['Principal','terms','age','Gender','weekend']]\n",
    "Feature = pd.concat([Feature,pd.get_dummies(df['education'])], axis=1)\n",
    "Feature.drop(['Master or Above'], axis = 1,inplace=True)\n",
    "\n",
    "\n",
    "# Code to display first 5 records of the features\n",
    "\n",
    "Feature.head()\n"
   ]
  },
  {
   "cell_type": "markdown",
   "metadata": {
    "button": false,
    "id": "IIYaziU-iv8P",
    "new_sheet": false,
    "run_control": {
     "read_only": false
    }
   },
   "source": [
    "### Feature Selection\n"
   ]
  },
  {
   "cell_type": "markdown",
   "metadata": {
    "button": false,
    "id": "V9rGB79Xiv8Q",
    "new_sheet": false,
    "run_control": {
     "read_only": false
    }
   },
   "source": [
    "Let's define feature sets, X:\n"
   ]
  },
  {
   "cell_type": "code",
   "execution_count": 63,
   "metadata": {
    "button": false,
    "id": "KV7B6sGhiv8R",
    "new_sheet": false,
    "outputId": "b07d7fa6-b2c4-459f-c222-a2059f520582",
    "run_control": {
     "read_only": false
    }
   },
   "outputs": [
    {
     "data": {
      "text/html": [
       "<div>\n",
       "<style scoped>\n",
       "    .dataframe tbody tr th:only-of-type {\n",
       "        vertical-align: middle;\n",
       "    }\n",
       "\n",
       "    .dataframe tbody tr th {\n",
       "        vertical-align: top;\n",
       "    }\n",
       "\n",
       "    .dataframe thead th {\n",
       "        text-align: right;\n",
       "    }\n",
       "</style>\n",
       "<table border=\"1\" class=\"dataframe\">\n",
       "  <thead>\n",
       "    <tr style=\"text-align: right;\">\n",
       "      <th></th>\n",
       "      <th>Principal</th>\n",
       "      <th>terms</th>\n",
       "      <th>age</th>\n",
       "      <th>Gender</th>\n",
       "      <th>weekend</th>\n",
       "      <th>Bechalor</th>\n",
       "      <th>High School or Below</th>\n",
       "      <th>college</th>\n",
       "    </tr>\n",
       "  </thead>\n",
       "  <tbody>\n",
       "    <tr>\n",
       "      <th>0</th>\n",
       "      <td>1000</td>\n",
       "      <td>30</td>\n",
       "      <td>45</td>\n",
       "      <td>0</td>\n",
       "      <td>0</td>\n",
       "      <td>0</td>\n",
       "      <td>1</td>\n",
       "      <td>0</td>\n",
       "    </tr>\n",
       "    <tr>\n",
       "      <th>1</th>\n",
       "      <td>1000</td>\n",
       "      <td>30</td>\n",
       "      <td>33</td>\n",
       "      <td>1</td>\n",
       "      <td>0</td>\n",
       "      <td>1</td>\n",
       "      <td>0</td>\n",
       "      <td>0</td>\n",
       "    </tr>\n",
       "    <tr>\n",
       "      <th>2</th>\n",
       "      <td>1000</td>\n",
       "      <td>15</td>\n",
       "      <td>27</td>\n",
       "      <td>0</td>\n",
       "      <td>0</td>\n",
       "      <td>0</td>\n",
       "      <td>0</td>\n",
       "      <td>1</td>\n",
       "    </tr>\n",
       "    <tr>\n",
       "      <th>3</th>\n",
       "      <td>1000</td>\n",
       "      <td>30</td>\n",
       "      <td>28</td>\n",
       "      <td>1</td>\n",
       "      <td>1</td>\n",
       "      <td>0</td>\n",
       "      <td>0</td>\n",
       "      <td>1</td>\n",
       "    </tr>\n",
       "    <tr>\n",
       "      <th>4</th>\n",
       "      <td>1000</td>\n",
       "      <td>30</td>\n",
       "      <td>29</td>\n",
       "      <td>0</td>\n",
       "      <td>1</td>\n",
       "      <td>0</td>\n",
       "      <td>0</td>\n",
       "      <td>1</td>\n",
       "    </tr>\n",
       "  </tbody>\n",
       "</table>\n",
       "</div>"
      ],
      "text/plain": [
       "   Principal  terms  age  Gender  weekend  Bechalor  High School or Below  \\\n",
       "0       1000     30   45       0        0         0                     1   \n",
       "1       1000     30   33       1        0         1                     0   \n",
       "2       1000     15   27       0        0         0                     0   \n",
       "3       1000     30   28       1        1         0                     0   \n",
       "4       1000     30   29       0        1         0                     0   \n",
       "\n",
       "   college  \n",
       "0        0  \n",
       "1        0  \n",
       "2        1  \n",
       "3        1  \n",
       "4        1  "
      ]
     },
     "execution_count": 63,
     "metadata": {},
     "output_type": "execute_result"
    }
   ],
   "source": [
    "X = Feature # replace None with the FEATURES\n",
    "\n",
    "X[0:5]"
   ]
  },
  {
   "cell_type": "markdown",
   "metadata": {
    "button": false,
    "id": "ibeXcCHjiv8S",
    "new_sheet": false,
    "run_control": {
     "read_only": false
    }
   },
   "source": [
    "What are our lables?\n"
   ]
  },
  {
   "cell_type": "code",
   "execution_count": 64,
   "metadata": {
    "button": false,
    "id": "CkRj-tokiv8T",
    "new_sheet": false,
    "outputId": "50f94efa-a836-4ba9-fd11-e410fc56e382",
    "run_control": {
     "read_only": false
    }
   },
   "outputs": [
    {
     "data": {
      "text/plain": [
       "array(['PAIDOFF', 'PAIDOFF', 'PAIDOFF', 'PAIDOFF', 'PAIDOFF'],\n",
       "      dtype=object)"
      ]
     },
     "execution_count": 64,
     "metadata": {},
     "output_type": "execute_result"
    }
   ],
   "source": [
    "y = df['loan_status'].values # replace None with the TARGET\n",
    "\n",
    "y[0:5]"
   ]
  },
  {
   "cell_type": "markdown",
   "metadata": {
    "button": false,
    "id": "UzvyQGTNiv8U",
    "new_sheet": false,
    "run_control": {
     "read_only": false
    }
   },
   "source": [
    "## Normalize Data\n"
   ]
  },
  {
   "cell_type": "markdown",
   "metadata": {
    "button": false,
    "id": "W9ggidwtiv8U",
    "new_sheet": false,
    "run_control": {
     "read_only": false
    }
   },
   "source": [
    "Normalize the features using 'StandardScaler'.\n"
   ]
  },
  {
   "cell_type": "code",
   "execution_count": 65,
   "metadata": {
    "button": false,
    "id": "QztuVcYLiv8V",
    "new_sheet": false,
    "outputId": "dfc40c36-6536-40f8-c32c-90abd8eed08e",
    "run_control": {
     "read_only": false
    }
   },
   "outputs": [
    {
     "data": {
      "text/plain": [
       "array([[ 0.51578458,  0.92071769,  2.33152555, -0.42056004, -1.20577805,\n",
       "        -0.38170062,  1.13639374, -0.86968108],\n",
       "       [ 0.51578458,  0.92071769,  0.34170148,  2.37778177, -1.20577805,\n",
       "         2.61985426, -0.87997669, -0.86968108],\n",
       "       [ 0.51578458, -0.95911111, -0.65321055, -0.42056004, -1.20577805,\n",
       "        -0.38170062, -0.87997669,  1.14984679],\n",
       "       [ 0.51578458,  0.92071769, -0.48739188,  2.37778177,  0.82934003,\n",
       "        -0.38170062, -0.87997669,  1.14984679],\n",
       "       [ 0.51578458,  0.92071769, -0.3215732 , -0.42056004,  0.82934003,\n",
       "        -0.38170062, -0.87997669,  1.14984679]])"
      ]
     },
     "execution_count": 65,
     "metadata": {},
     "output_type": "execute_result"
    }
   ],
   "source": [
    "X= preprocessing.StandardScaler().fit(X).transform(X)# replace None with the code to normalize feature\n",
    "\n",
    "\n",
    "X[0:5]"
   ]
  },
  {
   "cell_type": "markdown",
   "metadata": {
    "button": false,
    "id": "eGJTtjMDiv8X",
    "new_sheet": false,
    "run_control": {
     "read_only": false
    }
   },
   "source": [
    "# Classification\n"
   ]
  },
  {
   "cell_type": "markdown",
   "metadata": {
    "button": false,
    "id": "8XSW1OXyiv8Z",
    "new_sheet": false,
    "run_control": {
     "read_only": false
    }
   },
   "source": [
    "Now, use the training set to build an accurate model. Then use the test set to report the accuracy of the model\n",
    "You should use the following algorithm:\n",
    "\n",
    "*   K Nearest Neighbor(KNN)\n",
    "*   Decision Tree\n",
    "*   Support Vector Machine\n",
    "*   Logistic Regression\n",
    "\n",
    "\\__ Notice:\\__\n",
    "\n",
    "*   You can go above and change the pre-processing, feature selection, feature-extraction, and so on, to make a better model.\n",
    "*   You should use either scikit-learn, Scipy or Numpy libraries for developing the classification algorithms.\n",
    "*   You should include the code of the algorithm in the following cells.\n"
   ]
  },
  {
   "cell_type": "code",
   "execution_count": 70,
   "metadata": {
    "id": "fpiqHMS0iv8b",
    "outputId": "d4807d15-f6bd-4f8a-91ac-44297d779de1"
   },
   "outputs": [
    {
     "name": "stdout",
     "output_type": "stream",
     "text": [
      "Train set: (276, 8) (276,)\n",
      "Test set: (70, 8) (70,)\n"
     ]
    }
   ],
   "source": [
    "# Code to split the data into training and test set. (train:test) (80:20)\n",
    "\n",
    "\n",
    "X_train, X_test, y_train, y_test = train_test_split( X, y, test_size=0.2, random_state=4)\n",
    "\n",
    "\n",
    "\n",
    "print ('Train set:', X_train.shape,  y_train.shape)\n",
    "print ('Test set:', X_test.shape,  y_test.shape)"
   ]
  },
  {
   "cell_type": "markdown",
   "metadata": {
    "id": "O7fqaHppiv8a"
   },
   "source": [
    "# K Nearest Neighbor(KNN)\n"
   ]
  },
  {
   "cell_type": "markdown",
   "metadata": {
    "id": "UwUxNGEYiv8c"
   },
   "source": [
    "### Import library\n",
    "Import the KNeighbors classifier from sklearn\n",
    "\n",
    "\n"
   ]
  },
  {
   "cell_type": "code",
   "execution_count": 71,
   "metadata": {
    "id": "AzkT9KXIiv8d"
   },
   "outputs": [],
   "source": [
    "from sklearn.neighbors import KNeighborsClassifier # replace None with the code"
   ]
  },
  {
   "cell_type": "markdown",
   "metadata": {
    "id": "RcNbaHuuiv8e"
   },
   "source": [
    "### Training"
   ]
  },
  {
   "cell_type": "code",
   "execution_count": 72,
   "metadata": {
    "id": "uOiuRwxIiv8f",
    "outputId": "9a02a0f0-11cd-4e3b-a30a-4dc88aa2ce55"
   },
   "outputs": [
    {
     "data": {
      "text/plain": [
       "KNeighborsClassifier(n_neighbors=4)"
      ]
     },
     "execution_count": 72,
     "metadata": {},
     "output_type": "execute_result"
    }
   ],
   "source": [
    "#Train the KNN Model \n",
    "\n",
    "\n",
    "k=4\n",
    "neigh = KNeighborsClassifier(n_neighbors = k).fit(X_train,y_train) # replace the None with the code to train the model\n",
    "neigh"
   ]
  },
  {
   "cell_type": "markdown",
   "metadata": {
    "id": "0KjumCj1iv8h"
   },
   "source": [
    "### Predict"
   ]
  },
  {
   "cell_type": "code",
   "execution_count": 74,
   "metadata": {
    "id": "bn4N-rA8iv8i",
    "outputId": "994c26e4-dfd8-42de-b7b4-d9e1d5122f15"
   },
   "outputs": [
    {
     "name": "stderr",
     "output_type": "stream",
     "text": [
      "C:\\Users\\LENOVO\\anaconda3\\lib\\site-packages\\sklearn\\neighbors\\_classification.py:228: FutureWarning: Unlike other reduction functions (e.g. `skew`, `kurtosis`), the default behavior of `mode` typically preserves the axis it acts along. In SciPy 1.11.0, this behavior will change: the default value of `keepdims` will become False, the `axis` over which the statistic is taken will be eliminated, and the value None will no longer be accepted. Set `keepdims` to True or False to avoid this warning.\n",
      "  mode, _ = stats.mode(_y[neigh_ind, k], axis=1)\n"
     ]
    },
    {
     "data": {
      "text/plain": [
       "array(['PAIDOFF', 'COLLECTION', 'PAIDOFF', 'PAIDOFF', 'PAIDOFF'],\n",
       "      dtype=object)"
      ]
     },
     "execution_count": 74,
     "metadata": {},
     "output_type": "execute_result"
    }
   ],
   "source": [
    "yhat = neigh.predict(X_test) # replace the None with the code to get the predications for X_test\n",
    "yhat[0:5]\n",
    "\n"
   ]
  },
  {
   "cell_type": "markdown",
   "metadata": {
    "id": "Osx6d6FViv8k"
   },
   "source": [
    "### Evaluation"
   ]
  },
  {
   "cell_type": "code",
   "execution_count": 76,
   "metadata": {
    "id": "zexeqWTwiv8l",
    "outputId": "7e5b5ab1-20af-4824-d8a1-8da220fc9ebc"
   },
   "outputs": [
    {
     "name": "stdout",
     "output_type": "stream",
     "text": [
      "Train set Accuracy:  0.8188405797101449\n",
      "Test set Accuracy:  0.7\n"
     ]
    },
    {
     "name": "stderr",
     "output_type": "stream",
     "text": [
      "C:\\Users\\LENOVO\\anaconda3\\lib\\site-packages\\sklearn\\neighbors\\_classification.py:228: FutureWarning: Unlike other reduction functions (e.g. `skew`, `kurtosis`), the default behavior of `mode` typically preserves the axis it acts along. In SciPy 1.11.0, this behavior will change: the default value of `keepdims` will become False, the `axis` over which the statistic is taken will be eliminated, and the value None will no longer be accepted. Set `keepdims` to True or False to avoid this warning.\n",
      "  mode, _ = stats.mode(_y[neigh_ind, k], axis=1)\n"
     ]
    }
   ],
   "source": [
    "# Code to get the performance metrics of the trained model. Accuracy, f1 score, recall\n",
    "\n",
    "print(\"Train set Accuracy: \", metrics.accuracy_score(y_train, neigh.predict(X_train)))\n",
    "print(\"Test set Accuracy: \", metrics.accuracy_score(y_test, yhat))\n",
    "\n",
    "\n",
    "\n",
    "\n"
   ]
  },
  {
   "cell_type": "markdown",
   "metadata": {
    "id": "_ce4VwWJiv8m"
   },
   "source": [
    "# Decision Tree\n"
   ]
  },
  {
   "cell_type": "code",
   "execution_count": null,
   "metadata": {
    "id": "pf0cUJGWOIZg"
   },
   "outputs": [],
   "source": [
    "# Code to split the data into training and test set. (train:test) (70:30)\n",
    "\n",
    "\n",
    "\n",
    "\n",
    "print ('Train set:', X_trainset.shape,  y_trainset.shape)\n",
    "print ('Test set:', X_testset.shape,  y_testset.shape)"
   ]
  },
  {
   "cell_type": "markdown",
   "metadata": {
    "id": "hU1UpyjeOrXo"
   },
   "source": [
    "### Import library\n",
    "\n",
    "Import decision tree classifier from sklearn"
   ]
  },
  {
   "cell_type": "code",
   "execution_count": 78,
   "metadata": {
    "id": "DJd4rxluiv8n"
   },
   "outputs": [],
   "source": [
    "from sklearn.tree import DecisionTreeClassifier # replace None with your code"
   ]
  },
  {
   "cell_type": "markdown",
   "metadata": {
    "id": "2dXFqBnuP6c1"
   },
   "source": [
    "### Training "
   ]
  },
  {
   "cell_type": "code",
   "execution_count": 87,
   "metadata": {
    "id": "Leh7DHUoiv8r",
    "outputId": "18d73ebd-8ace-44c4-fc70-9faf20272d79"
   },
   "outputs": [
    {
     "data": {
      "text/plain": [
       "DecisionTreeClassifier(criterion='entropy')"
      ]
     },
     "execution_count": 87,
     "metadata": {},
     "output_type": "execute_result"
    }
   ],
   "source": [
    "# Code to train the model\n",
    "\n",
    "\n",
    "LoanTree = DecisionTreeClassifier(criterion=\"entropy\")\n",
    "LoanTree.fit(X_train,y_train)\n",
    "\n",
    "LoanTree # it shows the  parameters"
   ]
  },
  {
   "cell_type": "markdown",
   "metadata": {
    "id": "ILjq2pGhRZlG"
   },
   "source": [
    "### Predict"
   ]
  },
  {
   "cell_type": "code",
   "execution_count": 89,
   "metadata": {
    "id": "OVw4xVDuiv8t",
    "outputId": "d9e14cb7-3f7b-48fb-b70c-a30da56504a4"
   },
   "outputs": [
    {
     "name": "stdout",
     "output_type": "stream",
     "text": [
      "['PAIDOFF' 'PAIDOFF' 'PAIDOFF' 'PAIDOFF' 'PAIDOFF']\n",
      "['PAIDOFF' 'PAIDOFF' 'PAIDOFF' 'PAIDOFF' 'PAIDOFF']\n"
     ]
    }
   ],
   "source": [
    "predTree = LoanTree.predict(X_test)\n",
    " # replace the None with the code to get the predications for X_testset\n",
    " \n",
    "print (predTree [0:5])\n",
    "print (y_test [0:5])"
   ]
  },
  {
   "cell_type": "markdown",
   "metadata": {
    "id": "MqE9m3hER2bz"
   },
   "source": [
    "### Evaluation"
   ]
  },
  {
   "cell_type": "code",
   "execution_count": 90,
   "metadata": {
    "id": "VNu4xp-VR2b0"
   },
   "outputs": [
    {
     "name": "stdout",
     "output_type": "stream",
     "text": [
      "DecisionTrees's Accuracy:  0.7\n"
     ]
    }
   ],
   "source": [
    "# Code to get the performance metrics of the trained model. Accuracy, f1 score, recall\n",
    "print(\"DecisionTrees's Accuracy: \", metrics.accuracy_score(y_test, y_pred))\n",
    "\n",
    "\n",
    "\n",
    "\n",
    "\n"
   ]
  },
  {
   "cell_type": "markdown",
   "metadata": {
    "id": "vvihYS-Kiv8v"
   },
   "source": [
    "# Support Vector Machine\n"
   ]
  },
  {
   "cell_type": "code",
   "execution_count": 91,
   "metadata": {
    "id": "JSAZFDPniv8w",
    "outputId": "be26fef3-a2f1-4e53-a100-6b7e815d03ca"
   },
   "outputs": [
    {
     "name": "stdout",
     "output_type": "stream",
     "text": [
      "Train set: (276, 8) (276,)\n",
      "Test set: (70, 8) (70,)\n"
     ]
    }
   ],
   "source": [
    "# Code to split the data into training and test set. (train:test) (70:30)\n",
    "\n",
    "X_train, X_test, y_train, y_test = train_test_split( X, y, test_size=0.2, random_state=4)\n",
    "\n",
    "\n",
    "\n",
    "\n",
    "print ('Train set:', X_train.shape,  y_train.shape)\n",
    "print ('Test set:', X_test.shape,  y_test.shape)"
   ]
  },
  {
   "cell_type": "markdown",
   "metadata": {
    "id": "AoE1DUX1WrSS"
   },
   "source": [
    "### Training"
   ]
  },
  {
   "cell_type": "code",
   "execution_count": 92,
   "metadata": {
    "id": "BYt-iB-Oiv8y"
   },
   "outputs": [
    {
     "data": {
      "text/plain": [
       "SVC(kernel='linear')"
      ]
     },
     "execution_count": 92,
     "metadata": {},
     "output_type": "execute_result"
    }
   ],
   "source": [
    "# Code to train the model\n",
    "svc = svm.SVC(kernel='linear')\n",
    "svc.fit(X_train, y_train) \n",
    "\n",
    "\n"
   ]
  },
  {
   "cell_type": "markdown",
   "metadata": {
    "id": "g0PQ1KGwW323"
   },
   "source": [
    "### Predict"
   ]
  },
  {
   "cell_type": "code",
   "execution_count": 93,
   "metadata": {
    "id": "t2Ed-jFniv80",
    "outputId": "da10e5cb-5cc3-44cd-f493-01b5f75b6126"
   },
   "outputs": [
    {
     "data": {
      "text/plain": [
       "array(['PAIDOFF', 'PAIDOFF', 'PAIDOFF', 'PAIDOFF', 'PAIDOFF'],\n",
       "      dtype=object)"
      ]
     },
     "execution_count": 93,
     "metadata": {},
     "output_type": "execute_result"
    }
   ],
   "source": [
    "yhat = svc.predict(X_test) # replace the None with the code to get the predications for X_test\n",
    "\n",
    "yhat [0:5]"
   ]
  },
  {
   "cell_type": "markdown",
   "metadata": {
    "id": "bUxC-5SpXSPR"
   },
   "source": [
    "### Evaluate\n",
    "\n",
    "use y_test and yhat to get the performance metrics of the model"
   ]
  },
  {
   "cell_type": "code",
   "execution_count": 94,
   "metadata": {
    "id": "KSFYOKrpiv81"
   },
   "outputs": [
    {
     "name": "stdout",
     "output_type": "stream",
     "text": [
      "              precision    recall  f1-score   support\n",
      "\n",
      "  COLLECTION       0.35      0.47      0.40        15\n",
      "     PAIDOFF       0.84      0.76      0.80        55\n",
      "\n",
      "    accuracy                           0.70        70\n",
      "   macro avg       0.59      0.62      0.60        70\n",
      "weighted avg       0.73      0.70      0.71        70\n",
      "\n"
     ]
    }
   ],
   "source": [
    "# Code to get the performance metrics of the trained model. Accuracy, f1 score, recall\n",
    "print(classification_report(y_test, y_pred))\n",
    "\n",
    "\n",
    "\n"
   ]
  },
  {
   "cell_type": "markdown",
   "metadata": {
    "id": "QW0X7_35iv83"
   },
   "source": [
    "# Logistic Regression\n"
   ]
  },
  {
   "cell_type": "code",
   "execution_count": 95,
   "metadata": {
    "id": "M0BFWUMniv83",
    "outputId": "843c24f8-c205-443a-e949-c2cba82051fc"
   },
   "outputs": [
    {
     "name": "stdout",
     "output_type": "stream",
     "text": [
      "Train set: (276, 8) (276,)\n",
      "Test set: (70, 8) (70,)\n"
     ]
    }
   ],
   "source": [
    "# Code to split the data into training and test set. (train:test) (70:30)\n",
    "X_train, X_test, y_train, y_test = train_test_split( X, y, test_size=0.2, random_state=4)\n",
    "\n",
    "\n",
    "\n",
    "print ('Train set:', X_train.shape,  y_train.shape)\n",
    "print ('Test set:', X_test.shape,  y_test.shape)"
   ]
  },
  {
   "cell_type": "markdown",
   "metadata": {
    "id": "wXPJ5paiYEmE"
   },
   "source": [
    "### Import\n",
    "\n",
    "Import logistic regression model from sklearn"
   ]
  },
  {
   "cell_type": "code",
   "execution_count": 96,
   "metadata": {
    "id": "nnGbbJ1sYO36"
   },
   "outputs": [],
   "source": [
    "# enter the code\n",
    "from sklearn.linear_model import LogisticRegression\n"
   ]
  },
  {
   "cell_type": "markdown",
   "metadata": {
    "id": "3o_72xSkYUle"
   },
   "source": [
    "### Training"
   ]
  },
  {
   "cell_type": "code",
   "execution_count": 101,
   "metadata": {
    "id": "4_7zQs2Iiv85",
    "outputId": "919cde91-3b1c-4a1d-e397-b7a440fe0c57"
   },
   "outputs": [
    {
     "data": {
      "text/plain": [
       "LogisticRegression()"
      ]
     },
     "execution_count": 101,
     "metadata": {},
     "output_type": "execute_result"
    }
   ],
   "source": [
    "# Code to train the model\n",
    "\n",
    "lr=LogisticRegression()\n",
    "\n",
    "\n",
    "lr.fit(X_train, y_train) # replace the None with the code to train the model"
   ]
  },
  {
   "cell_type": "markdown",
   "metadata": {
    "id": "hvLU3WuZY777"
   },
   "source": [
    "### Preditction"
   ]
  },
  {
   "cell_type": "code",
   "execution_count": 102,
   "metadata": {
    "id": "vAz2hMogiv86",
    "outputId": "97da8438-baab-4e5f-d50c-3b13213893c3"
   },
   "outputs": [
    {
     "data": {
      "text/plain": [
       "array(['COLLECTION', 'PAIDOFF', 'PAIDOFF', 'PAIDOFF', 'PAIDOFF',\n",
       "       'PAIDOFF', 'PAIDOFF', 'PAIDOFF', 'PAIDOFF', 'PAIDOFF', 'PAIDOFF',\n",
       "       'PAIDOFF', 'PAIDOFF', 'PAIDOFF', 'PAIDOFF', 'PAIDOFF',\n",
       "       'COLLECTION', 'PAIDOFF', 'PAIDOFF', 'PAIDOFF', 'PAIDOFF',\n",
       "       'PAIDOFF', 'COLLECTION', 'PAIDOFF', 'PAIDOFF', 'COLLECTION',\n",
       "       'COLLECTION', 'PAIDOFF', 'PAIDOFF', 'PAIDOFF', 'PAIDOFF',\n",
       "       'PAIDOFF', 'PAIDOFF', 'PAIDOFF', 'PAIDOFF', 'PAIDOFF', 'PAIDOFF',\n",
       "       'PAIDOFF', 'PAIDOFF', 'PAIDOFF', 'PAIDOFF', 'PAIDOFF', 'PAIDOFF',\n",
       "       'COLLECTION', 'PAIDOFF', 'COLLECTION', 'PAIDOFF', 'PAIDOFF',\n",
       "       'PAIDOFF', 'PAIDOFF', 'PAIDOFF', 'PAIDOFF', 'PAIDOFF', 'PAIDOFF',\n",
       "       'PAIDOFF', 'PAIDOFF', 'PAIDOFF', 'PAIDOFF', 'PAIDOFF', 'PAIDOFF',\n",
       "       'PAIDOFF', 'PAIDOFF', 'PAIDOFF', 'COLLECTION', 'PAIDOFF',\n",
       "       'PAIDOFF', 'PAIDOFF', 'PAIDOFF', 'PAIDOFF', 'PAIDOFF'],\n",
       "      dtype=object)"
      ]
     },
     "execution_count": 102,
     "metadata": {},
     "output_type": "execute_result"
    }
   ],
   "source": [
    "\n",
    "yhat = lr.predict(X_test) # replace the None with the code to get the predications for X_test\n",
    "yhat"
   ]
  },
  {
   "cell_type": "markdown",
   "metadata": {
    "id": "NGVBsbBEZQA5"
   },
   "source": [
    "### Evaluate\n",
    "\n",
    "use y_test and yhat to get the performance metrics of the model"
   ]
  },
  {
   "cell_type": "code",
   "execution_count": 103,
   "metadata": {
    "id": "t-x7tMFOZQA6"
   },
   "outputs": [
    {
     "name": "stdout",
     "output_type": "stream",
     "text": [
      "              precision    recall  f1-score   support\n",
      "\n",
      "  COLLECTION       0.35      0.47      0.40        15\n",
      "     PAIDOFF       0.84      0.76      0.80        55\n",
      "\n",
      "    accuracy                           0.70        70\n",
      "   macro avg       0.59      0.62      0.60        70\n",
      "weighted avg       0.73      0.70      0.71        70\n",
      "\n"
     ]
    }
   ],
   "source": [
    "# Code to get the performance metrics of the trained model. Accuracy, f1 score, recall\n",
    "print(classification_report(y_test, y_pred))\n",
    "\n",
    "\n",
    "\n"
   ]
  },
  {
   "cell_type": "markdown",
   "metadata": {
    "id": "_Rzu62ISiv9A"
   },
   "source": [
    "# Model Evaluation metrics using Test set\n"
   ]
  },
  {
   "cell_type": "markdown",
   "metadata": {
    "id": "RFog-xpGiv9b"
   },
   "source": [
    "| Algorithm          | Accuracy | F1-score | Precission |\n",
    "| ------------------ | -------  | -------- | -------    |\n",
    "| KNN                |  NA      |  NA      | NA         |\n",
    "| Decision Tree      |  NA      |  NA      | NA         |\n",
    "| SVM                |  NA      |  NA      | NA         |\n",
    "| LogisticRegression |  NA      |  NA      | NA         |\n"
   ]
  }
 ],
 "metadata": {
  "colab": {
   "collapsed_sections": [],
   "include_colab_link": true,
   "name": "ML_assessment.ipynb",
   "provenance": []
  },
  "kernelspec": {
   "display_name": "Python 3 (ipykernel)",
   "language": "python",
   "name": "python3"
  },
  "language_info": {
   "codemirror_mode": {
    "name": "ipython",
    "version": 3
   },
   "file_extension": ".py",
   "mimetype": "text/x-python",
   "name": "python",
   "nbconvert_exporter": "python",
   "pygments_lexer": "ipython3",
   "version": "3.9.13"
  }
 },
 "nbformat": 4,
 "nbformat_minor": 1
}
